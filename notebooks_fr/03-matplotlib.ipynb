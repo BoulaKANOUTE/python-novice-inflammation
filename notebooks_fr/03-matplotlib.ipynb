{
 "cells": [
  {
   "cell_type": "markdown",
   "metadata": {},
   "source": [
    "# Programmer avec Python\n",
    "## Analyser des données de patients\n",
    "Questions\n",
    "* Comment visualiser des données tabulaires avec Python?\n",
    "\n",
    "Objectifs\n",
    "* Afficher de simples graphiques."
   ]
  },
  {
   "cell_type": "markdown",
   "metadata": {},
   "source": [
    "## Charger les données dans Python"
   ]
  },
  {
   "cell_type": "code",
   "execution_count": null,
   "metadata": {},
   "outputs": [],
   "source": [
    "### ###"
   ]
  },
  {
   "cell_type": "code",
   "execution_count": null,
   "metadata": {},
   "outputs": [],
   "source": [
    "### numpy.###(fname='../data/inflammation-01.csv', delimiter=',')"
   ]
  },
  {
   "cell_type": "markdown",
   "metadata": {},
   "source": [
    "## Créer des graphiques"
   ]
  },
  {
   "cell_type": "code",
   "execution_count": null,
   "metadata": {},
   "outputs": [],
   "source": [
    "import ###"
   ]
  },
  {
   "cell_type": "code",
   "execution_count": null,
   "metadata": {},
   "outputs": [],
   "source": [
    "# Un peu de magie à la IPython\n",
    "###"
   ]
  },
  {
   "cell_type": "code",
   "execution_count": null,
   "metadata": {},
   "outputs": [],
   "source": [
    "###\n",
    "###"
   ]
  },
  {
   "cell_type": "code",
   "execution_count": null,
   "metadata": {},
   "outputs": [],
   "source": [
    "ave_inflammation = numpy.###(data, ###)\n",
    "ave_plot = matplotlib.pyplot.###(###)\n",
    "matplotlib.pyplot.###()"
   ]
  },
  {
   "cell_type": "markdown",
   "metadata": {},
   "source": [
    "### Exercice - Faites votre propre graphique\n",
    "Créez un graphique montrant la déviation standard (numpy.std) des données d'inflammation pour chaque jour."
   ]
  },
  {
   "cell_type": "code",
   "execution_count": null,
   "metadata": {},
   "outputs": [],
   "source": [
    "std_plot = ###\n",
    "###"
   ]
  },
  {
   "cell_type": "markdown",
   "metadata": {},
   "source": [
    "## Les sous-graphiques"
   ]
  },
  {
   "cell_type": "code",
   "execution_count": null,
   "metadata": {},
   "outputs": [],
   "source": [
    "fig = matplotlib.pyplot.###(###=(3 * 3.5, 3.0))\n",
    "\n",
    "axes1 = fig.###(###, ###, ###)\n",
    "axes2 = fig.add_subplot(###, ###, ###)\n",
    "axes3 = fig.add_subplot(###, ###, ###)\n",
    "\n",
    "axes1.###('moyenne')\n",
    "axes1.###(numpy.###(data, axis=###))\n",
    "\n",
    "axes2.set_ylabel('max')\n",
    "axes2.plot(numpy.###(data, axis=###))\n",
    "\n",
    "axes3.set_ylabel('min')\n",
    "axes3.plot(numpy.###(data, axis=###))\n",
    "\n",
    "fig.###()\n",
    "\n",
    "matplotlib.pyplot.###()"
   ]
  },
  {
   "cell_type": "code",
   "execution_count": null,
   "metadata": {},
   "outputs": [],
   "source": []
  }
 ],
 "metadata": {
  "anaconda-cloud": {},
  "kernelspec": {
   "display_name": "Python 3",
   "language": "python",
   "name": "python3"
  },
  "language_info": {
   "codemirror_mode": {
    "name": "ipython",
    "version": 3
   },
   "file_extension": ".py",
   "mimetype": "text/x-python",
   "name": "python",
   "nbconvert_exporter": "python",
   "pygments_lexer": "ipython3",
   "version": "3.6.5"
  }
 },
 "nbformat": 4,
 "nbformat_minor": 1
}
