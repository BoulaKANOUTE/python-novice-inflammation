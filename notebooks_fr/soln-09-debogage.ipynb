{
 "cells": [
  {
   "cell_type": "markdown",
   "metadata": {},
   "source": [
    "# Programmer avec Python\n",
    "## Débogage\n",
    "Questions\n",
    "* Comment déboguer mon programme?\n",
    "\n",
    "Objectifs\n",
    "* Déboguer systématiquement un code ayant des erreurs.\n",
    "* Identifier des moyens de créer du code résilient contre les erreurs et facile à tester."
   ]
  },
  {
   "cell_type": "markdown",
   "metadata": {},
   "source": [
    "## Savoir ce que le code est supposé faire\n",
    "* Tester avec un jeu de données restreint (moins d'entrées)\n",
    "* Tester avec un cas simplifié (moins de paramètres)\n",
    "* Comparer avec un oracle (résultat final connu d'avance)\n",
    "* Lois de conservation (considérer les limites de la physique)\n",
    "* Visualiser le résultat"
   ]
  },
  {
   "cell_type": "markdown",
   "metadata": {},
   "source": [
    "## Faire échouer le code à tout coup\n",
    "* Trouver un cas d'utilisation qui fait échouer systématiquement un code\n",
    "* Vérifier les données en entrée\n",
    "* Vérifier les paramètres en entrée"
   ]
  },
  {
   "cell_type": "markdown",
   "metadata": {},
   "source": [
    "## Faire échouer le code rapidement\n",
    "* Éviter un cas de test de plusieurs minutes\n",
    "* Diviser pour régner : si le problème semble être entre l'entrée et la sortie, vérifier le milieu\n",
    "* Trouver un chemin court impliquant le moins de code possible"
   ]
  },
  {
   "cell_type": "markdown",
   "metadata": {},
   "source": [
    "## Changer une chose à la fois\n",
    "* Éviter d'ajouter d'autres problèmes\n",
    "* Vérifier quel changement corrige vraiment le problème\n",
    "* Relancer les tests unitaires une fois la correction faite"
   ]
  },
  {
   "cell_type": "markdown",
   "metadata": {},
   "source": [
    "## Garder une trace des changements\n",
    "* Utiliser un gestionnaire de changements\n",
    "* Par exemple: `git`\n",
    "* Autre formation ici: http://swcarpentry.github.io/git-novice/"
   ]
  },
  {
   "cell_type": "markdown",
   "metadata": {},
   "source": [
    "## Rester humble\n",
    "* Après un certain temps (10-60 minutes), demander à un collègue de regarder\n",
    "* Apprendre de ses erreurs"
   ]
  },
  {
   "cell_type": "markdown",
   "metadata": {},
   "source": [
    "### Exercice - Le résultat devrait changer...\n",
    "Dans une liste, il y a des paires masse-taille (Kg, m) de patients. Le calcul de l'indice de masse corporelle (IMC) consiste à diviser la masse par le carré de la taille. Or, le code ci-dessous produit la même sortie totalement erronée pour tous les patients. Pas de panique!\n",
    "\n",
    "En utilisant les principes de débogages vus ci-dessus, trouvez les erreurs et ajoutez ce qu'il faut pour protéger le code contre de futures erreurs."
   ]
  },
  {
   "cell_type": "code",
   "execution_count": null,
   "metadata": {},
   "outputs": [],
   "source": [
    "patients = [[70, 1.8], [80, 1.9], [150, 1.7]]\n",
    "\n",
    "def calculate_bmi(weight, height):\n",
    "    assert 3 < weight <= 700, str(weight) + \", pas le poids d'un humain\"\n",
    "    assert 0.2 < height <= 3.0, str(height) + \", pas la taille d'un humain\"\n",
    "    return weight / (height ** 2)\n",
    "\n",
    "for curr_patient in patients:\n",
    "    weight, height = curr_patient\n",
    "    bmi = calculate_bmi(weight, height)\n",
    "    print(\"L'IMC du patient est : %f\" % bmi)"
   ]
  },
  {
   "cell_type": "code",
   "execution_count": null,
   "metadata": {},
   "outputs": [],
   "source": []
  }
 ],
 "metadata": {
  "anaconda-cloud": {},
  "kernelspec": {
   "display_name": "Python 3",
   "language": "python",
   "name": "python3"
  },
  "language_info": {
   "codemirror_mode": {
    "name": "ipython",
    "version": 3
   },
   "file_extension": ".py",
   "mimetype": "text/x-python",
   "name": "python",
   "nbconvert_exporter": "python",
   "pygments_lexer": "ipython3",
   "version": "3.6.5"
  }
 },
 "nbformat": 4,
 "nbformat_minor": 1
}
