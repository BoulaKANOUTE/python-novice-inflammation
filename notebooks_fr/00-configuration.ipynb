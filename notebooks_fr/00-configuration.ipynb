{
 "cells": [
  {
   "cell_type": "markdown",
   "metadata": {},
   "source": [
    "# Programmation avec Python\n",
    "## Configuration pour l'atelier\n",
    "1. Télécharger et extraire le matériel:\n",
    "```\n",
    "git clone https://github.com/calculquebec/python-novice-inflammation.git\n",
    "```\n",
    "1. Aller dans le dossier: **python-novice-inflammation**\n",
    "```\n",
    "cd python-novice-inflammation/\n",
    "git checkout cq-notebooks\n",
    "```\n",
    "1. Démarrer Jupyter Notebook\n",
    "```\n",
    "jupyter notebook\n",
    "```\n",
    "1. Lorsque le portail Jupyter est affiché, cliquer sur le dossier \"`notebooks_fr`\",\n",
    "   ensuite cliquer sur le fichier \"`01-python.ipynb`\""
   ]
  },
  {
   "cell_type": "code",
   "execution_count": null,
   "metadata": {},
   "outputs": [],
   "source": [
    "# Installation de modules Python\n",
    "! pip install numpy matplotlib glob3"
   ]
  },
  {
   "cell_type": "code",
   "execution_count": null,
   "metadata": {},
   "outputs": [],
   "source": []
  }
 ],
 "metadata": {
  "anaconda-cloud": {},
  "kernelspec": {
   "display_name": "Python 3",
   "language": "python",
   "name": "python3"
  },
  "language_info": {
   "codemirror_mode": {
    "name": "ipython",
    "version": 3
   },
   "file_extension": ".py",
   "mimetype": "text/x-python",
   "name": "python",
   "nbconvert_exporter": "python",
   "pygments_lexer": "ipython3",
   "version": "3.6.5"
  }
 },
 "nbformat": 4,
 "nbformat_minor": 1
}
