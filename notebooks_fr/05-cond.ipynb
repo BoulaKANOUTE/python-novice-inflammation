{
 "cells": [
  {
   "cell_type": "markdown",
   "metadata": {},
   "source": [
    "# Programmer avec Python\n",
    "## Faire des choix\n",
    "Questions\n",
    "* Comment mes programmes peuvent faire des choses différentes selon la valeurs des données?\n",
    "\n",
    "Objectifs\n",
    "* Écrire des blocs conditionnels includant des branches `if`, `elif` et `else`.\n",
    "* Évaluer correctement des expressions contenant `and` et `or`."
   ]
  },
  {
   "cell_type": "markdown",
   "metadata": {},
   "source": [
    "## Blocs conditionnels"
   ]
  },
  {
   "cell_type": "code",
   "execution_count": null,
   "metadata": {},
   "outputs": [],
   "source": [
    "num = ###\n",
    "###\n",
    "    print('greater')\n",
    "###\n",
    "    print('not greater')\n",
    "print('done')"
   ]
  },
  {
   "cell_type": "markdown",
   "metadata": {},
   "source": [
    "![If num greater than 100](../fig/python-flowchart-conditional.png)"
   ]
  },
  {
   "cell_type": "markdown",
   "metadata": {},
   "source": [
    "### Exercice - Combien de chemins?\n",
    "Lequel des choix suivants sera affiché si nous exécutons le code ci-dessous?\n",
    "1. A\n",
    "1. B\n",
    "1. C\n",
    "1. B et C"
   ]
  },
  {
   "cell_type": "markdown",
   "metadata": {},
   "source": [
    "```\n",
    "if 4 > 5:\n",
    "    print('A')\n",
    "elif 4 == 5:\n",
    "    print('B')\n",
    "elif 4 < 5:\n",
    "    print('C')\n",
    "```"
   ]
  },
  {
   "cell_type": "markdown",
   "metadata": {},
   "source": [
    "### Exercice - Quelle est la vérité?"
   ]
  },
  {
   "cell_type": "code",
   "execution_count": null,
   "metadata": {},
   "outputs": [],
   "source": [
    "if ###:\n",
    "    print('chaîne vide est vraie')\n",
    "if ###:\n",
    "    print('un mot est vrai')"
   ]
  },
  {
   "cell_type": "code",
   "execution_count": null,
   "metadata": {},
   "outputs": [],
   "source": [
    "if ###:\n",
    "    print('liste vide est vraie')\n",
    "if ###:\n",
    "    print('liste pleine est vraie')"
   ]
  },
  {
   "cell_type": "code",
   "execution_count": null,
   "metadata": {},
   "outputs": [],
   "source": [
    "if ###:\n",
    "    print('zéro est vrai')\n",
    "if ###:\n",
    "    print('un est vrai')"
   ]
  },
  {
   "cell_type": "markdown",
   "metadata": {},
   "source": [
    "### Exercice - Ce que je voulais dire n'est pas faux"
   ]
  },
  {
   "cell_type": "code",
   "execution_count": null,
   "metadata": {},
   "outputs": [],
   "source": [
    "if ###:\n",
    "    print(\"chaîne vide n'est pas vraie\")\n",
    "if ###:\n",
    "    print(\"un mot n'est pas vrai\")"
   ]
  },
  {
   "cell_type": "code",
   "execution_count": null,
   "metadata": {},
   "outputs": [],
   "source": [
    "if ###:\n",
    "    print('not False est vrai')\n",
    "if ###:\n",
    "    print('not not True est vrai')"
   ]
  },
  {
   "cell_type": "markdown",
   "metadata": {},
   "source": [
    "## Opérateurs booléens"
   ]
  },
  {
   "cell_type": "code",
   "execution_count": null,
   "metadata": {},
   "outputs": [],
   "source": [
    "if ###:\n",
    "    print('les deux conditions sont vraies')\n",
    "else:\n",
    "    print('au moins une condition est fausse')"
   ]
  },
  {
   "cell_type": "code",
   "execution_count": null,
   "metadata": {},
   "outputs": [],
   "source": [
    "if ###:\n",
    "    print('au moins une condition est vraie')"
   ]
  },
  {
   "cell_type": "markdown",
   "metadata": {},
   "source": [
    "### Exercice - Assez proche\n",
    "Écrire une expression booléenne qui retourne `True` si la variable `a` est à une distance maximale de 10% de la valeur de `b`, ou retourne `False` sinon."
   ]
  },
  {
   "cell_type": "code",
   "execution_count": null,
   "metadata": {},
   "outputs": [],
   "source": [
    "a = 5\n",
    "b = 5.1\n",
    "\n",
    "if abs(###) ###\n",
    "    print('True')\n",
    "else:\n",
    "    print('False')"
   ]
  },
  {
   "cell_type": "markdown",
   "metadata": {},
   "source": [
    "### Exercice - Opérateurs d'accumulation\n",
    "Écrire un code qui additionne séparément les nombres positifs et négatifs provenant d'une liste, et ce, en utilisant les opérateurs d'accumulation. Voici un exemple de ces opérateurs :"
   ]
  },
  {
   "cell_type": "code",
   "execution_count": null,
   "metadata": {},
   "outputs": [],
   "source": [
    "x = 1    # valeur initiale\n",
    "x += 1   # ajouter 1 à x, assigner la somme à x\n",
    "x *= 3   # multiplier x par 3\n",
    "print(x)"
   ]
  },
  {
   "cell_type": "code",
   "execution_count": null,
   "metadata": {},
   "outputs": [],
   "source": [
    "test_list = [3, 4, 6, 1, -1, -5, 0, 7, -8]\n",
    "positive_sum = 0\n",
    "negative_sum = 0\n",
    "\n",
    "for ###\n",
    "    ###\n",
    "        positive_sum ###\n",
    "    ###\n",
    "        negative_sum ###\n",
    "\n",
    "print(positive_sum, negative_sum)"
   ]
  },
  {
   "cell_type": "markdown",
   "metadata": {},
   "source": [
    "## Vérifier nos données"
   ]
  },
  {
   "cell_type": "code",
   "execution_count": null,
   "metadata": {},
   "outputs": [],
   "source": [
    "import numpy"
   ]
  },
  {
   "cell_type": "code",
   "execution_count": null,
   "metadata": {},
   "outputs": [],
   "source": [
    "filename = '../data/inflammation-01.csv' # Also try 03\n",
    "data = numpy.loadtxt(fname=###, delimiter=',') "
   ]
  },
  {
   "cell_type": "code",
   "execution_count": null,
   "metadata": {},
   "outputs": [],
   "source": [
    "max_inflammation_0 = numpy.###(data, axis=###)[###]\n",
    "max_inflammation_20 = numpy.###(data, axis=0)[###]\n",
    "\n",
    "if max_inflammation_0 ### max_inflammation_20 ###:\n",
    "    print('Valeurs maximales suspectes!')\n",
    "elif ###:\n",
    "    print('Somme des valeurs minimales nulle!')\n",
    "else:\n",
    "    print('Semble OK!')"
   ]
  },
  {
   "cell_type": "code",
   "execution_count": null,
   "metadata": {},
   "outputs": [],
   "source": []
  }
 ],
 "metadata": {
  "anaconda-cloud": {},
  "kernelspec": {
   "display_name": "Python 3",
   "language": "python",
   "name": "python3"
  },
  "language_info": {
   "codemirror_mode": {
    "name": "ipython",
    "version": 3
   },
   "file_extension": ".py",
   "mimetype": "text/x-python",
   "name": "python",
   "nbconvert_exporter": "python",
   "pygments_lexer": "ipython3",
   "version": "3.6.5"
  }
 },
 "nbformat": 4,
 "nbformat_minor": 1
}
