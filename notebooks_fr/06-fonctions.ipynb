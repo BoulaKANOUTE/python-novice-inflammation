{
 "cells": [
  {
   "cell_type": "markdown",
   "metadata": {},
   "source": [
    "# Programmer avec Python\n",
    "## Créer des fonctions\n",
    "Questions\n",
    "* Comment définir de nouvelles fonctions?\n",
    "* Quelle est la différence entre définir et appeler une fonction?\n",
    "* Qu'arrive-t-il lorsque j'appelle une fonction?\n",
    "\n",
    "Objectifs\n",
    "* Définir une fonction recevant des paramètres.\n",
    "* Retourner une valeur.\n",
    "* Tester et déboguer une fonction.\n",
    "* Définir des valeurs par défaut aux paramètres.\n",
    "* Expliquer pourquoi il est préférable de diviser le code en fonctions."
   ]
  },
  {
   "cell_type": "markdown",
   "metadata": {},
   "source": [
    "## Définir une fonction"
   ]
  },
  {
   "cell_type": "code",
   "execution_count": null,
   "metadata": {},
   "outputs": [],
   "source": [
    "### fahr_to_celsius###\n",
    "    ### ((temp - 32) * (5/9))"
   ]
  },
  {
   "cell_type": "markdown",
   "metadata": {},
   "source": [
    "![def fahr_to_celsius(temp)](../fig/python-function.svg)"
   ]
  },
  {
   "cell_type": "code",
   "execution_count": null,
   "metadata": {},
   "outputs": [],
   "source": [
    "print(\"Point de congélation de l'eau :\", ###, 'C')\n",
    "print(\"Point d'ébullition de l'eau :  \", ###, 'C')"
   ]
  },
  {
   "cell_type": "markdown",
   "metadata": {},
   "source": [
    "### Exercice - Normaliser les valeurs d'un vecteur\n",
    "Écrire une fonction `rescale` recevant un vecteur en paramètre et retournant un vecteur de même longueur contenant les valeurs d'origine normalisées de 0.0 à 1.0. Indices :\n",
    "* L: valeur la plus basse\n",
    "* H: valeur la plus élevée\n",
    "* scaled_value = (value - L) / (H - L)"
   ]
  },
  {
   "cell_type": "code",
   "execution_count": null,
   "metadata": {},
   "outputs": [],
   "source": [
    "import numpy\n",
    "\n",
    "###\n",
    "    L = ###\n",
    "    H = ###\n",
    "    ### = (### - L) / (H - L)\n",
    "    ###\n",
    "\n",
    "print(rescale(numpy.array([10, 12, 16, 20])))"
   ]
  },
  {
   "cell_type": "markdown",
   "metadata": {},
   "source": [
    "## Nettoyer le code"
   ]
  },
  {
   "cell_type": "code",
   "execution_count": null,
   "metadata": {},
   "outputs": [],
   "source": [
    "import numpy\n",
    "import matplotlib.pyplot\n",
    "% matplotlib inline"
   ]
  },
  {
   "cell_type": "code",
   "execution_count": null,
   "metadata": {},
   "outputs": [],
   "source": [
    "# Le code suivant est copié du chapitre 4\n",
    "filenames = sorted(glob.glob('../data/inflammation*.csv'))\n",
    "filenames = filenames[0:3]\n",
    "\n",
    "for f in filenames:\n",
    "    print(f)\n",
    "\n",
    "    data = numpy.loadtxt(fname=f, delimiter=',')\n",
    "\n",
    "    fig = matplotlib.pyplot.figure(figsize=(10.0, 3.0))\n",
    "\n",
    "    axes1 = fig.add_subplot(1, 3, 1)\n",
    "    axes2 = fig.add_subplot(1, 3, 2)\n",
    "    axes3 = fig.add_subplot(1, 3, 3)\n",
    "\n",
    "    axes1.set_ylabel('moyenne')\n",
    "    axes1.plot(numpy.mean(data, axis=0))\n",
    "\n",
    "    axes2.set_ylabel('max')\n",
    "    axes2.plot(numpy.max(data, axis=0))\n",
    "\n",
    "    axes3.set_ylabel('min')\n",
    "    axes3.plot(numpy.min(data, axis=0))\n",
    "\n",
    "    fig.tight_layout()\n",
    "    matplotlib.pyplot.show()"
   ]
  },
  {
   "cell_type": "code",
   "execution_count": null,
   "metadata": {},
   "outputs": [],
   "source": [
    "# Le code suivant est copié du chapitre 5\n",
    "filename = '../data/inflammation-01.csv'\n",
    "data = numpy.loadtxt(fname=filename, delimiter=',')\n",
    "\n",
    "max_inflammation_0 = numpy.max(data, axis=0)[0]\n",
    "max_inflammation_20 = numpy.max(data, axis=0)[20]\n",
    "\n",
    "if max_inflammation_0 == 0 and max_inflammation_20 == 20:\n",
    "    print('Valeurs maximales suspectes!')\n",
    "elif numpy.sum(numpy.min(data, axis=0)) == 0:\n",
    "    print('Somme des valeurs minimales nulle!')\n",
    "else:\n",
    "    print('Semble OK!')"
   ]
  },
  {
   "cell_type": "code",
   "execution_count": null,
   "metadata": {},
   "outputs": [],
   "source": [
    "# Code principal\n",
    "import glob\n",
    "###\n",
    "\n",
    "###\n",
    "    ###\n",
    "    visualize(f)\n",
    "    detect_problems(f)"
   ]
  },
  {
   "cell_type": "markdown",
   "metadata": {},
   "source": [
    "## Tester et documenter votre fonction"
   ]
  },
  {
   "cell_type": "code",
   "execution_count": null,
   "metadata": {},
   "outputs": [],
   "source": [
    "def rescale(input_array):\n",
    "    ###Takes an array as input, and returns a corresponding\n",
    "    array scaled so that 0 corresponds to the minimum and 1\n",
    "    to the maximum value of the input array.\n",
    "\n",
    "    Examples:\n",
    "    >>> ###\n",
    "    ###\n",
    "    ###\n",
    "    >>> ###\n",
    "    ###\n",
    "    ###\n",
    "    L = numpy.min(input_array)\n",
    "    H = numpy.max(input_array)\n",
    "    output_array = (input_array - L) / (H - L)\n",
    "    return output_array"
   ]
  },
  {
   "cell_type": "code",
   "execution_count": null,
   "metadata": {},
   "outputs": [],
   "source": [
    "help(rescale)"
   ]
  },
  {
   "cell_type": "code",
   "execution_count": null,
   "metadata": {},
   "outputs": [],
   "source": [
    "#help(numpy.arange)\n",
    "print(\"vecteur =\", numpy.arange(###))\n",
    "###(numpy.arange(###))"
   ]
  },
  {
   "cell_type": "code",
   "execution_count": null,
   "metadata": {
    "scrolled": true
   },
   "outputs": [],
   "source": [
    "#help(numpy.linspace)\n",
    "print(\"vecteur =\", numpy.linspace(###))\n",
    "###(numpy.linspace(###))"
   ]
  },
  {
   "cell_type": "markdown",
   "metadata": {},
   "source": [
    "## Définir des valeurs par défaut"
   ]
  },
  {
   "cell_type": "code",
   "execution_count": null,
   "metadata": {},
   "outputs": [],
   "source": [
    "numpy.loadtxt('../data/inflammation-01.csv', ###=',')"
   ]
  },
  {
   "cell_type": "code",
   "execution_count": null,
   "metadata": {},
   "outputs": [],
   "source": [
    "numpy.loadtxt('../data/inflammation-01.csv', ###)"
   ]
  },
  {
   "cell_type": "code",
   "execution_count": null,
   "metadata": {},
   "outputs": [],
   "source": [
    "def display(a###, b###, c###):\n",
    "    print('a:', a, 'b:', b, 'c:', c)"
   ]
  },
  {
   "cell_type": "code",
   "execution_count": null,
   "metadata": {},
   "outputs": [],
   "source": [
    "print('aucun paramètre :')\n",
    "###"
   ]
  },
  {
   "cell_type": "code",
   "execution_count": null,
   "metadata": {},
   "outputs": [],
   "source": [
    "print('un paramètre :')\n",
    "display(###)"
   ]
  },
  {
   "cell_type": "code",
   "execution_count": null,
   "metadata": {},
   "outputs": [],
   "source": [
    "print('deux paramètres :')\n",
    "display(###)"
   ]
  },
  {
   "cell_type": "code",
   "execution_count": null,
   "metadata": {},
   "outputs": [],
   "source": [
    "print('définir seulement c :')\n",
    "display(###)"
   ]
  },
  {
   "cell_type": "code",
   "execution_count": null,
   "metadata": {},
   "outputs": [],
   "source": [
    "# De : numpy.loadtxt('../data/inflammation-01.csv', ',')\n",
    "help(numpy###)"
   ]
  },
  {
   "cell_type": "markdown",
   "metadata": {},
   "source": [
    "### Exercice - Mélanger des paramètres par défaut et non par défaut\n",
    "Étant donné le code suivant :"
   ]
  },
  {
   "cell_type": "markdown",
   "metadata": {},
   "source": [
    "```Python\n",
    "def numbers(one, two=2, three, four=4):\n",
    "    n = str(one) + str(two) + str(three) + str(four)\n",
    "    return n\n",
    "\n",
    "print(numbers(1, three=3))\n",
    "```"
   ]
  },
  {
   "cell_type": "markdown",
   "metadata": {},
   "source": [
    "Que pensez-vous qu'il sera affiché? Finalement, qu'est-ce qui est affiché? Quelle règle doit-on suivre dans Python?\n",
    "\n",
    "1. `1234`\n",
    "1. `one2three4`\n",
    "1. `1239`\n",
    "1. `SyntaxError`\n",
    "\n",
    "Étant donné cela, quelle devrait être la sortie du code suivant?"
   ]
  },
  {
   "cell_type": "markdown",
   "metadata": {},
   "source": [
    "```Python\n",
    "def func(a, b = 3, c = 6):\n",
    "  print('a: ', a, 'b: ', b,'c:', c)\n",
    "\n",
    "func(-1, 2)\n",
    "```"
   ]
  },
  {
   "cell_type": "markdown",
   "metadata": {},
   "source": [
    "1. `a:  b: 3 c: 6`\n",
    "1. `a: -1 b: 3 c: 6`\n",
    "1. `a: -1 b: 2 c: 6`\n",
    "1. `a:  b: -1 c: 2`"
   ]
  },
  {
   "cell_type": "markdown",
   "metadata": {},
   "source": [
    "### Exercice - Définir des valeurs par défaut\n",
    "Réécrivez la fonction `rescale` de telle sorte que la normalisation soit entre 0.0 et 1.0 par défaut, mais permettant à l'utilisateur de définir des limites différentes. Indices :\n",
    "* scaled_value = (value - L) / (H - L)\n",
    "* scaled_value * (H - L) = (value - L)\n",
    "* **scaled_value * (H - L) + L = value**"
   ]
  },
  {
   "cell_type": "code",
   "execution_count": null,
   "metadata": {},
   "outputs": [],
   "source": [
    "def rescale(input_array, ###, ###):\n",
    "    '''Normaliser les valeurs du vecteur en entrée de low_val à high_val'''\n",
    "    L = numpy.min(input_array)\n",
    "    H = numpy.max(input_array)\n",
    "    ### = (input_array - L) / (H - L)\n",
    "    output_array = ###\n",
    "    return output_array"
   ]
  },
  {
   "cell_type": "code",
   "execution_count": null,
   "metadata": {},
   "outputs": [],
   "source": [
    "rescale(numpy.linspace(0, 100, 5))"
   ]
  },
  {
   "cell_type": "code",
   "execution_count": null,
   "metadata": {},
   "outputs": [],
   "source": [
    "rescale(numpy.linspace(0, 100, 5), high_val=100)"
   ]
  },
  {
   "cell_type": "code",
   "execution_count": null,
   "metadata": {},
   "outputs": [],
   "source": [
    "rescale(numpy.linspace(0, 100, 5), high_val=0, low_val=100)"
   ]
  },
  {
   "cell_type": "markdown",
   "metadata": {
    "collapsed": true
   },
   "source": [
    "### Exercice - Variables internes et externes aux fonctions\n",
    "Quelle est la sortie du code suivant et pourquoi?"
   ]
  },
  {
   "cell_type": "markdown",
   "metadata": {},
   "source": [
    "```python\n",
    "f = 0\n",
    "k = 0\n",
    "\n",
    "def f2k(f):\n",
    "  k = ((f-32)*(5.0/9.0)) + 273.15\n",
    "  return k\n",
    "\n",
    "f2k(8)\n",
    "f2k(41)\n",
    "f2k(32)\n",
    "\n",
    "print(k)\n",
    "```"
   ]
  },
  {
   "cell_type": "markdown",
   "metadata": {},
   "source": [
    "### Exercice - Le bon vieux échangeur\n",
    "Laquelle des sorties suivantes sera affichée si on exécute le code suivant? Pourquoi avez-vous choisi cette réponse?\n",
    "\n",
    "1. `7 3`\n",
    "1. `3 7`\n",
    "1. `3 3`\n",
    "1. `7 7`"
   ]
  },
  {
   "cell_type": "markdown",
   "metadata": {},
   "source": [
    "```Python\n",
    "a = 3\n",
    "b = 7\n",
    "\n",
    "def swap(a, b):\n",
    "    temp = a\n",
    "    a = b\n",
    "    b = temp\n",
    "\n",
    "swap(a, b)\n",
    "\n",
    "print(a, b)\n",
    "```"
   ]
  },
  {
   "cell_type": "code",
   "execution_count": null,
   "metadata": {},
   "outputs": [],
   "source": []
  }
 ],
 "metadata": {
  "anaconda-cloud": {},
  "kernelspec": {
   "display_name": "Python 3",
   "language": "python",
   "name": "python3"
  },
  "language_info": {
   "codemirror_mode": {
    "name": "ipython",
    "version": 3
   },
   "file_extension": ".py",
   "mimetype": "text/x-python",
   "name": "python",
   "nbconvert_exporter": "python",
   "pygments_lexer": "ipython3",
   "version": "3.6.5"
  }
 },
 "nbformat": 4,
 "nbformat_minor": 1
}
