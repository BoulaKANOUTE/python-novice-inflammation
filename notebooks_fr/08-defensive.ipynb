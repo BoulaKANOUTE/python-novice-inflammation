{
 "cells": [
  {
   "cell_type": "markdown",
   "metadata": {},
   "source": [
    "# Programmer avec Python\n",
    "## Programmation défensive\n",
    "Questions\n",
    "* Comment créer des programmes plus fiables?\n",
    "\n",
    "Objectifs\n",
    "* Expliquer ce qu'est une assertion.\n",
    "* Ajouter des assertions pour vérifier que l'état du programme est correct.\n",
    "* Ajouter des assertions de précondition et de postcondition aux fonctions.\n",
    "* Expliquer ce qu'est le développement basé sur les tests et comment l'utiliser en créant de nouvelles fonctions.\n",
    "* Expliquer pourquoi les variables devraient être initialisées avec les valeurs des données plutôt qu'avec des constantes arbitraires."
   ]
  },
  {
   "cell_type": "markdown",
   "metadata": {},
   "source": [
    "## Assertions"
   ]
  },
  {
   "cell_type": "code",
   "execution_count": null,
   "metadata": {},
   "outputs": [],
   "source": [
    "numbers = [1.5, 2.3, 0.7, -0.001, 4.4]\n",
    "total = 0.0\n",
    "for n in numbers:\n",
    "    ###\n",
    "    total += n\n",
    "print('total est :', total)"
   ]
  },
  {
   "cell_type": "code",
   "execution_count": null,
   "metadata": {},
   "outputs": [],
   "source": [
    "def normalize_rectangle(rect):\n",
    "    '''Normalizes a rectangle so that it is at the origin and 1.0 units long\n",
    "    on its longest axis. Input should be of the format (x0, y0, x1, y1).\n",
    "    (x0, y0) and (x1, y1) define the lower left and upper right corners\n",
    "    of the rectangle, respectively.'''\n",
    "    ###, 'Les rectangles doivent contenir 4 coordonnées'\n",
    "    x0, y0, x1, y1 = rect\n",
    "    assert ###, 'Coordonnées x0 x1 invalides'\n",
    "    assert y0 < y1, 'Coordonnées y0 y1 invalides'\n",
    "\n",
    "    dx = x1 - x0\n",
    "    dy = y1 - y0\n",
    "    if dx > dy:\n",
    "        scaled = float(dx) / dy\n",
    "        upper_x, upper_y = 1.0, scaled\n",
    "    else:\n",
    "        scaled = float(dx) / dy\n",
    "        upper_x, upper_y = scaled, 1.0\n",
    "\n",
    "    assert ###, 'Largeur calculée (en x) invalide'\n",
    "    assert 0 < upper_y <= 1.0, 'Hauteur calculée (en y) invalide'\n",
    "\n",
    "    return (0, 0, upper_x, upper_y)"
   ]
  },
  {
   "cell_type": "code",
   "execution_count": null,
   "metadata": {},
   "outputs": [],
   "source": [
    "print(normalize_rectangle( (0.0, 1.0, 2.0, ###) )) # 4e coordonnée manquante"
   ]
  },
  {
   "cell_type": "code",
   "execution_count": null,
   "metadata": {},
   "outputs": [],
   "source": [
    "print(normalize_rectangle( (###, 2.0, ###, 5.0) )) # Axe X inversé"
   ]
  },
  {
   "cell_type": "code",
   "execution_count": null,
   "metadata": {},
   "outputs": [],
   "source": [
    "print(normalize_rectangle( (0.0, 0.0, ###, ###) ))"
   ]
  },
  {
   "cell_type": "code",
   "execution_count": null,
   "metadata": {},
   "outputs": [],
   "source": [
    "print(normalize_rectangle( (0.0, 0.0, ###, ###) ))"
   ]
  },
  {
   "cell_type": "markdown",
   "metadata": {},
   "source": [
    "### Exercice - Préconditions et postconditions\n",
    "Supposons que vous écrivez une fonction appelée `average` qui calcule la moyenne des nombres dans une liste. Quelles préconditions et postconditions devriez vous écrire?"
   ]
  },
  {
   "cell_type": "code",
   "execution_count": null,
   "metadata": {},
   "outputs": [],
   "source": [
    "import numpy\n",
    "\n",
    "def average(input_list):\n",
    "    input_list = numpy.asarray(input_list)\n",
    "    \n",
    "    # Pre-conditions\n",
    "    ###\n",
    "    \n",
    "    average = numpy.mean(input_list)\n",
    "    \n",
    "    # Post-conditions\n",
    "    ###\n",
    "    \n",
    "    return average\n",
    "\n",
    "print('Moyenne :', average([2, 2, 2]))"
   ]
  },
  {
   "cell_type": "markdown",
   "metadata": {},
   "source": [
    "## Développement par tests unitaires"
   ]
  },
  {
   "cell_type": "markdown",
   "metadata": {},
   "source": [
    "![Figure - Overlapping Ranges](../fig/python-overlapping-ranges.svg)"
   ]
  },
  {
   "cell_type": "code",
   "execution_count": null,
   "metadata": {},
   "outputs": [],
   "source": [
    "assert range_overlap([ (0.0, 1.0) ]) == ###\n",
    "assert range_overlap([ (2.0, 3.0), (2.0, 4.0) ]) == ###\n",
    "assert range_overlap([ (0.0, 1.0), (0.0, 2.0), (-1.0, 1.0) ]) == ###"
   ]
  },
  {
   "cell_type": "code",
   "execution_count": null,
   "metadata": {},
   "outputs": [],
   "source": [
    "assert range_overlap([ (0.0, 1.0), (5.0, 6.0) ]) == ###\n",
    "assert range_overlap([ (0.0, 1.0), (1.0, 2.0) ]) == ###\n",
    "assert range_overlap([ ### ]) == None"
   ]
  },
  {
   "cell_type": "code",
   "execution_count": null,
   "metadata": {},
   "outputs": [],
   "source": [
    "def range_overlap(ranges):\n",
    "    '''Return common overlap among a set of [left, right] ranges.'''\n",
    "    max_left = 0.0\n",
    "    min_right = 1.0\n",
    "    for (left, right) in ranges:\n",
    "        max_left = max(max_left, left)\n",
    "        min_right = min(min_right, right)\n",
    "    return (max_left, min_right)"
   ]
  },
  {
   "cell_type": "code",
   "execution_count": null,
   "metadata": {},
   "outputs": [],
   "source": [
    "###\n",
    "assert range_overlap([ (0.0, 1.0) ]) == (0.0, 1.0)\n",
    "assert range_overlap([ (2.0, 3.0), (2.0, 4.0) ]) == (2.0, 3.0)\n",
    "assert range_overlap([ (0.0, 1.0), (0.0, 2.0), (-1.0, 1.0) ]) == (0.0, 1.0)\n",
    "\n",
    "assert range_overlap([ (0.0, 1.0), (5.0, 6.0) ]) == None\n",
    "assert range_overlap([ (0.0, 1.0), (1.0, 2.0) ]) == None\n",
    "assert range_overlap([]) == None"
   ]
  },
  {
   "cell_type": "code",
   "execution_count": null,
   "metadata": {},
   "outputs": [],
   "source": [
    "###"
   ]
  },
  {
   "cell_type": "markdown",
   "metadata": {},
   "source": [
    "### Exercice - Corriger et tester\n",
    "Corriger `range_overlap` (Indice: `numpy.inf`). Relancer `test_range_overlap` après chaque changement que vous faites."
   ]
  },
  {
   "cell_type": "code",
   "execution_count": null,
   "metadata": {},
   "outputs": [],
   "source": [
    "import numpy\n",
    "\n",
    "def range_overlap(ranges):\n",
    "    '''Return common overlap among a set of [left, right] ranges.'''\n",
    "    ### # Indice: aucune entrée, alors retourner None\n",
    "        ###\n",
    "    ### # Indice: une seule entrée, alors la retourner\n",
    "        ###\n",
    "\n",
    "    max_left = ### # Indice: valeur la plus basse possible\n",
    "    min_right = ### # Indice: valeur la plus élevée possible\n",
    "    \n",
    "    for (left, right) in ranges:\n",
    "        max_left = max(max_left, left)\n",
    "        min_right = min(min_right, right)\n",
    "\n",
    "    ### # Indice: en cas d'intervalles disjoints\n",
    "        ###\n",
    "    return (max_left, min_right)"
   ]
  },
  {
   "cell_type": "code",
   "execution_count": null,
   "metadata": {},
   "outputs": [],
   "source": [
    "test_range_overlap()"
   ]
  },
  {
   "cell_type": "code",
   "execution_count": null,
   "metadata": {},
   "outputs": [],
   "source": []
  }
 ],
 "metadata": {
  "anaconda-cloud": {},
  "kernelspec": {
   "display_name": "Python 3",
   "language": "python",
   "name": "python3"
  },
  "language_info": {
   "codemirror_mode": {
    "name": "ipython",
    "version": 3
   },
   "file_extension": ".py",
   "mimetype": "text/x-python",
   "name": "python",
   "nbconvert_exporter": "python",
   "pygments_lexer": "ipython3",
   "version": "3.6.5"
  }
 },
 "nbformat": 4,
 "nbformat_minor": 1
}
