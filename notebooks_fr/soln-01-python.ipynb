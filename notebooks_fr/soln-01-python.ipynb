{
 "cells": [
  {
   "cell_type": "markdown",
   "metadata": {},
   "source": [
    "# Programmer avec Python\n",
    "## Introduction à Python\n",
    "Questions\n",
    "* Quelles sont les notions de base dans Python?\n",
    "\n",
    "Objectifs\n",
    "* Assigner des valeurs à des variables.\n",
    "* Utiliser la boucle `for` pour des actions répétées.\n",
    "* Suivre les changements d'une variables dans une boucle.\n",
    "* Créer des listes et pouvoir accéder aux données.\n",
    "* Modifier le contenu des listes.\n",
    "* Sélectionner une ou plusieurs valeurs."
   ]
  },
  {
   "cell_type": "markdown",
   "metadata": {
    "collapsed": true
   },
   "source": [
    "### Comment utiliser l'interface Jupyter\n",
    "Lorsqu'une cellule est en mode d'édition :\n",
    "\n",
    "  Raccourci | Description\n",
    "----------- | -----------\n",
    "MAJ+Entrée  | Exécuter une cellule et aller à la suivante\n",
    "Tab         | Indenter le code ou autocomplétion\n",
    "Échap       | Aller en mode commande\n",
    "\n",
    "Lorsqu'une cellule est en mode commande :\n",
    "\n",
    "  Raccourci | Description\n",
    "----------- | -----------\n",
    "MAJ+Entrée  | Exécuter une cellule et aller à la suivante\n",
    "Double-clic | Aller en mode édition\n",
    "Entrée      | Aller en mode édition\n",
    "\n",
    "  Raccourci | Description\n",
    "----------- | -----------\n",
    "A           | Insérer une cellule en haut\n",
    "B           | Insérer une cellule en bas\n",
    "C           | Copier la cellule\n",
    "V           | Coller la cellule en bas\n",
    "D D         | Supprimer la cellule\n",
    "M           | Changer la cellule en code Markdown\n",
    "Y           | Changer la cellule en code Python\n",
    "\n",
    "Pour réinitialiser toutes les cellules :\n",
    "* Aller dans le menu du haut et sélectionner Kernel -> Restart & Clear Output"
   ]
  },
  {
   "cell_type": "markdown",
   "metadata": {},
   "source": [
    "## Variables"
   ]
  },
  {
   "cell_type": "code",
   "execution_count": null,
   "metadata": {},
   "outputs": [],
   "source": [
    "3 + 5 * 4"
   ]
  },
  {
   "cell_type": "code",
   "execution_count": null,
   "metadata": {},
   "outputs": [],
   "source": [
    "weight_kg = 60"
   ]
  },
  {
   "cell_type": "markdown",
   "metadata": {},
   "source": [
    "### Types de données\n",
    "* nombres entiers,\n",
    "* nombres à virgule flottante et\n",
    "* chaînes de caractères."
   ]
  },
  {
   "cell_type": "code",
   "execution_count": null,
   "metadata": {},
   "outputs": [],
   "source": [
    "weight_kg = 60.0"
   ]
  },
  {
   "cell_type": "code",
   "execution_count": null,
   "metadata": {},
   "outputs": [],
   "source": [
    "weight_kg_text = 'poids en kilogrammes :'"
   ]
  },
  {
   "cell_type": "markdown",
   "metadata": {},
   "source": [
    "### Utiliser des variables en Python"
   ]
  },
  {
   "cell_type": "code",
   "execution_count": null,
   "metadata": {},
   "outputs": [],
   "source": [
    "print(weight_kg)"
   ]
  },
  {
   "cell_type": "code",
   "execution_count": null,
   "metadata": {},
   "outputs": [],
   "source": [
    "print(weight_kg_text, weight_kg)"
   ]
  },
  {
   "cell_type": "code",
   "execution_count": null,
   "metadata": {},
   "outputs": [],
   "source": [
    "print('poids en livres :', 2.2 * weight_kg)"
   ]
  },
  {
   "cell_type": "code",
   "execution_count": null,
   "metadata": {},
   "outputs": [],
   "source": [
    "print(weight_kg)"
   ]
  },
  {
   "cell_type": "code",
   "execution_count": null,
   "metadata": {},
   "outputs": [],
   "source": [
    "weight_kg = 65.0\n",
    "print('poids en kilogrammes est maintenant :', weight_kg)"
   ]
  },
  {
   "cell_type": "markdown",
   "metadata": {},
   "source": [
    "![Variable as a sticky note](../fig/python-sticky-note-variables-01.svg)"
   ]
  },
  {
   "cell_type": "code",
   "execution_count": null,
   "metadata": {},
   "outputs": [],
   "source": [
    "# Calculer 2.2 livres par kilogramme\n",
    "weight_lb = 2.2 * weight_kg\n",
    "print(weight_kg_text, weight_kg, 'et en livres :', weight_lb)"
   ]
  },
  {
   "cell_type": "markdown",
   "metadata": {},
   "source": [
    "![Two variables](../fig/python-sticky-note-variables-02.svg)"
   ]
  },
  {
   "cell_type": "code",
   "execution_count": null,
   "metadata": {},
   "outputs": [],
   "source": [
    "weight_kg = 100.0\n",
    "print('poids en kilogrammes est maintenant :', weight_kg,\n",
    "      'et poids en livres est toujours :', weight_lb)"
   ]
  },
  {
   "cell_type": "markdown",
   "metadata": {},
   "source": [
    "![Independant variables](../fig/python-sticky-note-variables-03.svg)"
   ]
  },
  {
   "cell_type": "markdown",
   "metadata": {},
   "source": [
    "### Exercice\n",
    "Dessiner un diagramme montrant quelles variables réfèrent à quelles valeurs après chaque ligne de code dans le programme suivant :"
   ]
  },
  {
   "cell_type": "code",
   "execution_count": null,
   "metadata": {},
   "outputs": [],
   "source": [
    "mass = 47.5        # mass-> 47.5, age-> undefined\n",
    "age = 122          # mass-> 47.5, age-> 122\n",
    "mass = mass * 2.0  # mass-> 95.0, age-> 122\n",
    "age = age - 20     # mass-> 95.0, age-> 102\n",
    "print(mass, age)"
   ]
  },
  {
   "cell_type": "markdown",
   "metadata": {},
   "source": [
    "## Actions répétées"
   ]
  },
  {
   "cell_type": "code",
   "execution_count": null,
   "metadata": {},
   "outputs": [],
   "source": [
    "word = 'lead'"
   ]
  },
  {
   "cell_type": "code",
   "execution_count": null,
   "metadata": {},
   "outputs": [],
   "source": [
    "print(word[0])\n",
    "print(word[1])\n",
    "print(word[2])\n",
    "print(word[3])"
   ]
  },
  {
   "cell_type": "code",
   "execution_count": null,
   "metadata": {},
   "outputs": [],
   "source": [
    "word = 'tin'\n",
    "print(word[0])\n",
    "print(word[1])\n",
    "print(word[2])\n",
    "print(word[3])"
   ]
  },
  {
   "cell_type": "markdown",
   "metadata": {},
   "source": [
    "### Utiliser des boucles"
   ]
  },
  {
   "cell_type": "code",
   "execution_count": null,
   "metadata": {},
   "outputs": [],
   "source": [
    "word = 'lead'\n",
    "for char in word:\n",
    "    print(char)"
   ]
  },
  {
   "cell_type": "code",
   "execution_count": null,
   "metadata": {},
   "outputs": [],
   "source": [
    "word = 'oxygen'\n",
    "for char in word:\n",
    "    print(char)"
   ]
  },
  {
   "cell_type": "markdown",
   "metadata": {},
   "source": [
    "### Syntaxe de la boucle\n",
    "```\n",
    "for variable in collection:\n",
    "    faire quelque chose avec variable\n",
    "```"
   ]
  },
  {
   "cell_type": "markdown",
   "metadata": {},
   "source": [
    "![What happens when accessing each letter](../fig/loops_image.png)"
   ]
  },
  {
   "cell_type": "markdown",
   "metadata": {},
   "source": [
    "### Modifier des variables dans une boucle"
   ]
  },
  {
   "cell_type": "code",
   "execution_count": null,
   "metadata": {},
   "outputs": [],
   "source": [
    "length = 0\n",
    "for vowel in 'aeiou':\n",
    "    length = length + 1\n",
    "print('Il y a', length, 'voyelles')"
   ]
  },
  {
   "cell_type": "code",
   "execution_count": null,
   "metadata": {},
   "outputs": [],
   "source": [
    "print(len('aeiou'))"
   ]
  },
  {
   "cell_type": "code",
   "execution_count": null,
   "metadata": {},
   "outputs": [],
   "source": [
    "letter = 'z'\n",
    "for letter in 'abc':\n",
    "    print(letter)\n",
    "print('après la boucle, letter est :', letter)"
   ]
  },
  {
   "cell_type": "markdown",
   "metadata": {},
   "source": [
    "### Exercice - Renverser une chaîne de caractères\n",
    "Sachant que deux chaînes de caractères peuvent être concaténées en utilisant l'opérateur `+`, écrivez une boucle recevant une chaîne de caractères et produisant une chaîne de caractères dans l'ordre inverse, soit `'Newton'` devenant `'notweN'`."
   ]
  },
  {
   "cell_type": "code",
   "execution_count": null,
   "metadata": {},
   "outputs": [],
   "source": [
    "newstring = ''\n",
    "oldstring = 'Newton'\n",
    "for char in oldstring:\n",
    "    newstring = char + newstring\n",
    "print(newstring)"
   ]
  },
  {
   "cell_type": "markdown",
   "metadata": {},
   "source": [
    "### Exercice - Utiliser `range()`\n",
    "```Python\n",
    "for i in range(3):         # 0, 1, 2\n",
    "for i in range(2, 5):      # 2, 3, 4\n",
    "for i in range(3, 10, 2):  # 3, 5, 7, 9\n",
    "```\n",
    "Mais comment pouvons-nous obtenir 1, 2, 3?"
   ]
  },
  {
   "cell_type": "code",
   "execution_count": null,
   "metadata": {},
   "outputs": [],
   "source": [
    "for i in range(1, 4):\n",
    "    print(i)"
   ]
  },
  {
   "cell_type": "markdown",
   "metadata": {},
   "source": [
    "## Les listes en Python"
   ]
  },
  {
   "cell_type": "code",
   "execution_count": null,
   "metadata": {},
   "outputs": [],
   "source": [
    "odds = [1, 3, 5, 7]\n",
    "print('les nombres impairs sont :', odds)"
   ]
  },
  {
   "cell_type": "code",
   "execution_count": null,
   "metadata": {},
   "outputs": [],
   "source": [
    "print('premier et dernier :', odds[0], odds[-1])"
   ]
  },
  {
   "cell_type": "code",
   "execution_count": null,
   "metadata": {},
   "outputs": [],
   "source": [
    "for number in odds:\n",
    "    print(number)"
   ]
  },
  {
   "cell_type": "markdown",
   "metadata": {},
   "source": [
    "### Mutable vs Immutable"
   ]
  },
  {
   "cell_type": "code",
   "execution_count": null,
   "metadata": {},
   "outputs": [],
   "source": [
    "names = ['Newton', 'Darwing', 'Turing'] # coquille dans le nom de Darwin\n",
    "print('names contient initialement :', names)\n",
    "\n",
    "names[1] = 'Darwin' # correct the name\n",
    "print('contenu final de names:', names)"
   ]
  },
  {
   "cell_type": "code",
   "execution_count": null,
   "metadata": {},
   "outputs": [],
   "source": [
    "# Les chaînes de caractères sont immutables\n",
    "name = 'Darwin'\n",
    "name[0] = 'd'"
   ]
  },
  {
   "cell_type": "markdown",
   "metadata": {},
   "source": [
    "### Modifier le contenu des listes"
   ]
  },
  {
   "cell_type": "code",
   "execution_count": null,
   "metadata": {},
   "outputs": [],
   "source": [
    "odds.append(11)\n",
    "print(\"odds après l'ajout d'un nombre :\", odds)"
   ]
  },
  {
   "cell_type": "code",
   "execution_count": null,
   "metadata": {},
   "outputs": [],
   "source": [
    "del odds[0]\n",
    "print(\"odds après la suppression d'un nombre :\", odds)"
   ]
  },
  {
   "cell_type": "code",
   "execution_count": null,
   "metadata": {},
   "outputs": [],
   "source": [
    "odds = [1, 3, 5, 7]\n",
    "primes = odds\n",
    "primes[0] = 2\n",
    "odds.append(9)\n",
    "\n",
    "print('premiers:', primes)\n",
    "print('impairs:', odds)"
   ]
  },
  {
   "cell_type": "code",
   "execution_count": null,
   "metadata": {},
   "outputs": [],
   "source": [
    "odds = [1, 3, 5, 7]\n",
    "primes = list(odds)\n",
    "primes[0] = 2\n",
    "odds.extend([9])\n",
    "\n",
    "print('premiers:', primes)\n",
    "print('impairs:', odds)"
   ]
  },
  {
   "cell_type": "markdown",
   "metadata": {},
   "source": [
    "### Exercice - Convertir une chaîne de caractères en une liste\n",
    "Utilisez une boucle `for` pour convertir la chaîne `\"hello\"` en une liste de lettres :\n",
    "```Python\n",
    "['h', 'e', 'l', 'l', 'o']\n",
    "```\n",
    "Indice : vous pouvez créer une liste vide comme suit :\n",
    "```Python\n",
    "ma_liste = []\n",
    "```"
   ]
  },
  {
   "cell_type": "code",
   "execution_count": null,
   "metadata": {},
   "outputs": [],
   "source": [
    "my_list = []\n",
    "for char in \"hello\":\n",
    "    my_list.append(char)\n",
    "print(my_list)"
   ]
  },
  {
   "cell_type": "markdown",
   "metadata": {},
   "source": [
    "### Exercice - Les opérateurs et les listes"
   ]
  },
  {
   "cell_type": "code",
   "execution_count": null,
   "metadata": {},
   "outputs": [],
   "source": [
    "counts = [2, 4, 6, 8, 10]\n",
    "repeats = counts * 2\n",
    "\n",
    "#my_solution = [4, 8, 12, 16, 20]\n",
    "#my_solution = [2, 2, 4, 4, 6, 6, 8, 8, 10, 10]\n",
    "my_solution = [2, 4, 6, 8, 10, 2, 4, 6, 8, 10]\n",
    "#my_solution = [[2, 4, 6, 8, 10],[2, 4, 6, 8, 10]]\n",
    "\n",
    "print(\"Solution Python :\", repeats)\n",
    "print(\"Ma solution :    \", my_solution)"
   ]
  },
  {
   "cell_type": "markdown",
   "metadata": {},
   "source": [
    "## Les tranches (slices en anglais)\n",
    "```Python\n",
    "tranche = liste_ou_chaine[index_début:index_fin:taille_saut]\n",
    "```\n",
    "Utiliser l'argument `taille_saut` pour créer une nouvelle chaîne de caractères contenant uniquement un caractère sur deux de la phrase \"In an octopus’s garden in the shade\" :\n",
    "```\n",
    "I notpssgre ntesae\n",
    "```"
   ]
  },
  {
   "cell_type": "code",
   "execution_count": null,
   "metadata": {},
   "outputs": [],
   "source": [
    "beatles = \"In an octopus's garden in the shade\"\n",
    "print(beatles[::2])"
   ]
  },
  {
   "cell_type": "code",
   "execution_count": null,
   "metadata": {},
   "outputs": [],
   "source": [
    "string_for_slicing = \"Date d'observation : 02-Feb-2013\"\n",
    "list_for_slicing = [[\"fluorine\", \"F\"],\n",
    "                    [\"chlorine\", \"Cl\"],\n",
    "                    [\"bromine\", \"Br\"],\n",
    "                    [\"iodine\", \"I\"],\n",
    "                    [\"astatine\", \"At\"]]\n",
    "\n",
    "print(string_for_slicing[-4:])\n",
    "print(list_for_slicing[-3:])"
   ]
  },
  {
   "cell_type": "markdown",
   "metadata": {},
   "source": [
    "### Exercices - Trancher des chaînes de caractères\n",
    "Quelle serait la sortie des commandes suivantes?"
   ]
  },
  {
   "cell_type": "code",
   "execution_count": null,
   "metadata": {},
   "outputs": [],
   "source": [
    "element = 'oxygen'\n",
    "print(element[0:3])    # oxy\n",
    "print(element[3:6])    # gen"
   ]
  },
  {
   "cell_type": "code",
   "execution_count": null,
   "metadata": {},
   "outputs": [],
   "source": [
    "print(element[:4])     # oxyg\n",
    "print(element[4:])     # en\n",
    "print(element[:])      # oxygen"
   ]
  },
  {
   "cell_type": "code",
   "execution_count": null,
   "metadata": {},
   "outputs": [],
   "source": [
    "print(element[-1])     # n\n",
    "print(element[-2])     # e\n",
    "print(element[1:-1])   # xyge"
   ]
  },
  {
   "cell_type": "code",
   "execution_count": null,
   "metadata": {},
   "outputs": [],
   "source": [
    "print(element[3:3])    # Empty string"
   ]
  },
  {
   "cell_type": "code",
   "execution_count": null,
   "metadata": {},
   "outputs": [],
   "source": []
  }
 ],
 "metadata": {
  "anaconda-cloud": {},
  "kernelspec": {
   "display_name": "Python 3",
   "language": "python",
   "name": "python3"
  },
  "language_info": {
   "codemirror_mode": {
    "name": "ipython",
    "version": 3
   },
   "file_extension": ".py",
   "mimetype": "text/x-python",
   "name": "python",
   "nbconvert_exporter": "python",
   "pygments_lexer": "ipython3",
   "version": "3.6.5"
  }
 },
 "nbformat": 4,
 "nbformat_minor": 1
}
