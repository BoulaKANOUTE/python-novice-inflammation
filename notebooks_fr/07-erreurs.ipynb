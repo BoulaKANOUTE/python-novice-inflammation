{
 "cells": [
  {
   "cell_type": "markdown",
   "metadata": {},
   "source": [
    "# Programmer avec Python\n",
    "## Erreurs et exceptions\n",
    "Questions\n",
    "* Comment Python signale des erreurs?\n",
    "* Comment gérer les erreurs dans un programme Python?\n",
    "\n",
    "Objectifs\n",
    "* Être en capable de lire une trace d'exécution, de déterminer où l'erreur a eu lieu et de quel type d'erreur il s'agit.\n",
    "* Être en capable de décrire les types de situation d'erreurs de syntaxe, d'indentation, de nom ou d'accès à un fichier."
   ]
  },
  {
   "cell_type": "markdown",
   "metadata": {},
   "source": [
    "## Trace d'exécution en Python"
   ]
  },
  {
   "cell_type": "code",
   "execution_count": null,
   "metadata": {},
   "outputs": [],
   "source": [
    "# Ce code contient une erreur intentionnelle.\n",
    "def favorite_ice_cream():\n",
    "    ice_creams = [\n",
    "        \"chocolat\",\n",
    "        \"vanille\",\n",
    "        \"fraise\"\n",
    "    ]\n",
    "    print(ice_creams[3])\n",
    "\n",
    "favorite_ice_cream()"
   ]
  },
  {
   "cell_type": "markdown",
   "metadata": {},
   "source": [
    "## Erreurs de syntaxe"
   ]
  },
  {
   "cell_type": "code",
   "execution_count": null,
   "metadata": {},
   "outputs": [],
   "source": [
    "###\n",
    "    msg = \"Bonjour le monde!\"\n",
    "    print(msg)\n",
    "    #return msg"
   ]
  },
  {
   "cell_type": "markdown",
   "metadata": {},
   "source": [
    "### Exercice - Identifier les erreurs de syntaxe\n",
    "\n",
    "1. Lire le code ci-dessous et (sans l'exécuter) essayer d'identifier les erreurs.\n",
    "1. Exécuter le code et lire le message d'erreur. Est-ce un SyntaxError or un IndentationError?\n",
    "1. Corriger l'erreur.\n",
    "1. Répéter les étapes 2 et 3 jusqu'à ce que toutes les erreurs soient corrigées."
   ]
  },
  {
   "cell_type": "markdown",
   "metadata": {},
   "source": [
    "```Python\n",
    "def another_function\n",
    "  print(\"Les erreurs de syntaxe sont agaçantes.\")\n",
    "   print(\"Au moins, Python nous en informe!\")\n",
    "  print(\"Ce qui facilite leur correction.\")\n",
    "```"
   ]
  },
  {
   "cell_type": "markdown",
   "metadata": {},
   "source": [
    "Votre solution ici:"
   ]
  },
  {
   "cell_type": "code",
   "execution_count": null,
   "metadata": {},
   "outputs": [],
   "source": [
    "def another_function\n",
    "  print(\"Les erreurs de syntaxe sont agaçantes.\")\n",
    "   print(\"Au moins, Python nous en informe!\")\n",
    "  print(\"Ce qui facilite leur correction.\")"
   ]
  },
  {
   "cell_type": "markdown",
   "metadata": {},
   "source": [
    "## Erreurs de nom de variable"
   ]
  },
  {
   "cell_type": "code",
   "execution_count": null,
   "metadata": {},
   "outputs": [],
   "source": [
    "print(###)"
   ]
  },
  {
   "cell_type": "code",
   "execution_count": null,
   "metadata": {},
   "outputs": [],
   "source": [
    "print(###)"
   ]
  },
  {
   "cell_type": "code",
   "execution_count": null,
   "metadata": {},
   "outputs": [],
   "source": [
    "###\n",
    "for ### in range(10):\n",
    "    ###\n",
    "print(\"La somme est :\", ###)"
   ]
  },
  {
   "cell_type": "markdown",
   "metadata": {},
   "source": [
    "### Exercice - Identifier les erreurs de nom de variable\n",
    "\n",
    "1. Lire le code ci-dessous et (sans l'exécuter) essayer d'identifier les erreurs.\n",
    "1. Exécuter le code et lire le message d'erreur. Quel type de NameError s'agit-il? En d'autres mots, est-ce une chaîne de caractères sans guillemets, une variable mal orthographiée ou une variable qui n'avait pas été définie?\n",
    "1. Corriger l'erreur.\n",
    "1. Répéter les étapes 2 et 3 jusqu'à ce que toutes les erreurs soient corrigées."
   ]
  },
  {
   "cell_type": "markdown",
   "metadata": {
    "collapsed": true
   },
   "source": [
    "```Python\n",
    "for number in range(10):\n",
    "    # Concaténer un a si number est un multiple de 3, sinon concaténer un b\n",
    "    if (Number % 3) == 0:\n",
    "        message = message + a\n",
    "    else:\n",
    "        message = message + \"b\"\n",
    "print(message)\n",
    "```"
   ]
  },
  {
   "cell_type": "markdown",
   "metadata": {},
   "source": [
    "Votre solution ici:"
   ]
  },
  {
   "cell_type": "code",
   "execution_count": null,
   "metadata": {},
   "outputs": [],
   "source": [
    "for number in range(10):\n",
    "    # Concaténer un a si number est un multiple de 3, sinon concaténer un b\n",
    "    if (Number % 3) == 0:\n",
    "        message = message + a\n",
    "    else:\n",
    "        message = message + \"b\"\n",
    "print(message)"
   ]
  },
  {
   "cell_type": "markdown",
   "metadata": {},
   "source": [
    "## Erreurs d'index"
   ]
  },
  {
   "cell_type": "code",
   "execution_count": null,
   "metadata": {},
   "outputs": [],
   "source": [
    "letters = ['a', 'b', 'c']\n",
    "print(\"Lettre #--- est\", letters[###])\n",
    "print(\"Lettre #--- est\", letters[###])\n",
    "print(\"Lettre #--- est\", letters[###])\n",
    "print(\"Lettre #--- est\", letters[###])"
   ]
  },
  {
   "cell_type": "markdown",
   "metadata": {},
   "source": [
    "### Exercice - Identifier des erreurs d'index\n",
    "\n",
    "1. Lire le code ci-dessous et (sans l'exécuter) essayer d'identifier les erreurs.\n",
    "1. Exécuter le code et lire le message d'erreur. Quel type d'erreur s'agit-il?\n",
    "1. Corriger l'erreur."
   ]
  },
  {
   "cell_type": "markdown",
   "metadata": {},
   "source": [
    "```Python\n",
    "seasons = ['printemps', 'été', 'automne', 'hiver']\n",
    "print('Ma saison préférée est ', seasons[4])\n",
    "```"
   ]
  },
  {
   "cell_type": "markdown",
   "metadata": {},
   "source": [
    "Your solution:"
   ]
  },
  {
   "cell_type": "code",
   "execution_count": null,
   "metadata": {},
   "outputs": [],
   "source": [
    "seasons = ['printemps', 'été', 'automne', 'hiver']\n",
    "print('Ma saison préférée est ', seasons[4])"
   ]
  },
  {
   "cell_type": "markdown",
   "metadata": {},
   "source": [
    "## Erreurs de fichier"
   ]
  },
  {
   "cell_type": "code",
   "execution_count": null,
   "metadata": {},
   "outputs": [],
   "source": [
    "file_handle = ###"
   ]
  },
  {
   "cell_type": "code",
   "execution_count": null,
   "metadata": {},
   "outputs": [],
   "source": [
    "file_handle = ###\n",
    "file_handle.###"
   ]
  },
  {
   "cell_type": "code",
   "execution_count": null,
   "metadata": {},
   "outputs": [],
   "source": []
  }
 ],
 "metadata": {
  "anaconda-cloud": {},
  "kernelspec": {
   "display_name": "Python 3",
   "language": "python",
   "name": "python3"
  },
  "language_info": {
   "codemirror_mode": {
    "name": "ipython",
    "version": 3
   },
   "file_extension": ".py",
   "mimetype": "text/x-python",
   "name": "python",
   "nbconvert_exporter": "python",
   "pygments_lexer": "ipython3",
   "version": "3.6.5"
  }
 },
 "nbformat": 4,
 "nbformat_minor": 1
}
