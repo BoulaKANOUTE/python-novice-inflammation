{
 "cells": [
  {
   "cell_type": "markdown",
   "metadata": {},
   "source": [
    "# Programming with Python\n",
    "## Lesson Setup\n",
    "1. Download and extract the material:\n",
    "```\n",
    "git clone https://github.com/calculquebec/python-novice-inflammation.git\n",
    "```\n",
    "1. Go to folder: **python-novice-inflammation**\n",
    "```\n",
    "cd python-novice-inflammation/\n",
    "git checkout cq-notebooks\n",
    "```\n",
    "1. Start the Jupyter Notebook\n",
    "```\n",
    "jupyter notebook\n",
    "```\n",
    "1. Once your web browser is showing the Jupyter portal, click on folder \"`notebooks_en`\",\n",
    "   then click on file \"`01-python.ipynb`\""
   ]
  },
  {
   "cell_type": "code",
   "execution_count": null,
   "metadata": {},
   "outputs": [],
   "source": [
    "# Make sure the following Python modules are installed\n",
    "! pip install numpy matplotlib glob3"
   ]
  },
  {
   "cell_type": "code",
   "execution_count": null,
   "metadata": {},
   "outputs": [],
   "source": []
  }
 ],
 "metadata": {
  "anaconda-cloud": {},
  "kernelspec": {
   "display_name": "Python 3",
   "language": "python",
   "name": "python3"
  },
  "language_info": {
   "codemirror_mode": {
    "name": "ipython",
    "version": 3
   },
   "file_extension": ".py",
   "mimetype": "text/x-python",
   "name": "python",
   "nbconvert_exporter": "python",
   "pygments_lexer": "ipython3",
   "version": "3.7.4"
  }
 },
 "nbformat": 4,
 "nbformat_minor": 1
}
