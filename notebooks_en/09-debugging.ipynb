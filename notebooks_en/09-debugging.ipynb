{
 "cells": [
  {
   "cell_type": "markdown",
   "metadata": {},
   "source": [
    "# Programming with Python\n",
    "## Debugging\n",
    "Questions\n",
    "* How can I debug my program?\n",
    "\n",
    "Objectives\n",
    "* Debug code containing an error systematically.\n",
    "* Identify ways of making code less error-prone and more easily tested."
   ]
  },
  {
   "cell_type": "markdown",
   "metadata": {},
   "source": [
    "## Know What It’s Supposed to Do\n",
    "* Test with simplified data (less inputs)\n",
    "* Test a simplified case (less parameters)\n",
    "* Compare to an oracle (know the result in advance)\n",
    "* Check conservation laws (consider physics limits)\n",
    "* Visualize the result"
   ]
  },
  {
   "cell_type": "markdown",
   "metadata": {},
   "source": [
    "## Make It Fail Every Time\n",
    "* Find a test case that makes it fail every time\n",
    "* Verify the input data\n",
    "* Verify all input parameters"
   ]
  },
  {
   "cell_type": "markdown",
   "metadata": {},
   "source": [
    "## Make It Fail Fast\n",
    "* Avoid a case that would fail only after many minutes\n",
    "* Divide and conquer strategy : if the output is wrong, then check whether things are OK in the middle,then concentrate on either the first or second half, and so on\n",
    "* Find a short execution path that involves a minimum number of code"
   ]
  },
  {
   "cell_type": "markdown",
   "metadata": {},
   "source": [
    "## Change One Thing at a Time\n",
    "* Avoid adding more problems\n",
    "* Verify easily which change effectively fixes the problem\n",
    "* Rerun unity-tests to make sure the code is still working as expected"
   ]
  },
  {
   "cell_type": "markdown",
   "metadata": {},
   "source": [
    "## Keep Track of What You’ve Done\n",
    "* Use a version control tool\n",
    "* For example: `git`\n",
    "* Suggested workshop here: http://swcarpentry.github.io/git-novice/"
   ]
  },
  {
   "cell_type": "markdown",
   "metadata": {},
   "source": [
    "## Be Humble\n",
    "* After some time (10-60 minutes), ask a colleague to take a look at your code\n",
    "* Learn for your errors"
   ]
  },
  {
   "cell_type": "markdown",
   "metadata": {},
   "source": [
    "### Exercise - Not Supposed to be the Same...\n",
    "You are assisting a researcher with Python code that computes the Body Mass Index (BMI) of patients. The researcher is concerned because all patients seemingly have unusual and identical BMIs, despite having different physiques. BMI is calculated as **weight in kilograms** divided by the square of **height in metres**.\n",
    "\n",
    "Use the debugging principles in this exercise and locate problems with the code. What suggestions would you give the researcher for ensuring any later changes they make work correctly?"
   ]
  },
  {
   "cell_type": "code",
   "execution_count": null,
   "metadata": {},
   "outputs": [],
   "source": [
    "patients = [[70, 1.8], [80, 1.9], [150, 1.7]]\n",
    "\n",
    "def calculate_bmi(weight, height):\n",
    "    return weight / (height ** 2)\n",
    "\n",
    "for patient in patients:\n",
    "    weight, height = patients[0]\n",
    "    bmi = calculate_bmi(height, weight)\n",
    "    print(\"Patient's BMI is: %f\" % bmi)"
   ]
  },
  {
   "cell_type": "code",
   "execution_count": null,
   "metadata": {},
   "outputs": [],
   "source": []
  }
 ],
 "metadata": {
  "anaconda-cloud": {},
  "kernelspec": {
   "display_name": "Python 3",
   "language": "python",
   "name": "python3"
  },
  "language_info": {
   "codemirror_mode": {
    "name": "ipython",
    "version": 3
   },
   "file_extension": ".py",
   "mimetype": "text/x-python",
   "name": "python",
   "nbconvert_exporter": "python",
   "pygments_lexer": "ipython3",
   "version": "3.7.4"
  }
 },
 "nbformat": 4,
 "nbformat_minor": 1
}
