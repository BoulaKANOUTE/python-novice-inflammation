{
 "cells": [
  {
   "cell_type": "markdown",
   "metadata": {},
   "source": [
    "## Lists in Python"
   ]
  },
  {
   "cell_type": "code",
   "execution_count": null,
   "metadata": {},
   "outputs": [],
   "source": [
    "odds = [1, 3, 5, 7]\n",
    "print('odds are:', odds)"
   ]
  },
  {
   "cell_type": "code",
   "execution_count": null,
   "metadata": {},
   "outputs": [],
   "source": [
    "print('first and last:', odds[0], odds[-1])"
   ]
  },
  {
   "cell_type": "code",
   "execution_count": null,
   "metadata": {},
   "outputs": [],
   "source": [
    "for number in odds:\n",
    "    print(number)"
   ]
  },
  {
   "cell_type": "markdown",
   "metadata": {},
   "source": [
    "### Mutable vs Immutable"
   ]
  },
  {
   "cell_type": "code",
   "execution_count": null,
   "metadata": {},
   "outputs": [],
   "source": [
    "names = ['Newton', 'Darwing', 'Turing'] # typo in Darwin's name\n",
    "print('names is originally:', names)\n",
    "\n",
    "names[1] = 'Darwin' # correct the name\n",
    "print('final value of names:', names)"
   ]
  },
  {
   "cell_type": "code",
   "execution_count": null,
   "metadata": {},
   "outputs": [],
   "source": [
    "# Strings are immutable\n",
    "name = 'Darwin'\n",
    "name[0] = 'd'"
   ]
  },
  {
   "cell_type": "markdown",
   "metadata": {},
   "source": [
    "### Modifying the Content of Lists"
   ]
  },
  {
   "cell_type": "code",
   "execution_count": null,
   "metadata": {},
   "outputs": [],
   "source": [
    "odds.append(11)\n",
    "print('odds after adding a value:', odds)"
   ]
  },
  {
   "cell_type": "code",
   "execution_count": null,
   "metadata": {},
   "outputs": [],
   "source": [
    "del odds[0]\n",
    "print('odds after removing the first element:', odds)"
   ]
  },
  {
   "cell_type": "code",
   "execution_count": null,
   "metadata": {},
   "outputs": [],
   "source": [
    "help(list) # See .pop(), .reverse()"
   ]
  },
  {
   "cell_type": "code",
   "execution_count": null,
   "metadata": {},
   "outputs": [],
   "source": [
    "odds = [1, 3, 5, 7]\n",
    "primes = odds\n",
    "primes[0] = 2\n",
    "odds.append(9)\n",
    "\n",
    "print('primes:', primes)\n",
    "print('odds:', odds)"
   ]
  },
  {
   "cell_type": "code",
   "execution_count": null,
   "metadata": {},
   "outputs": [],
   "source": [
    "odds = [1, 3, 5, 7]\n",
    "primes = list(odds)\n",
    "primes[0] = 2\n",
    "odds.extend([9])\n",
    "\n",
    "print('primes:', primes)\n",
    "print('odds:', odds)"
   ]
  },
  {
   "cell_type": "markdown",
   "metadata": {},
   "source": [
    "### Exercise - Turn a String Into a List\n",
    "Use a for-loop to convert the string `\"hello\"` into a list of letters:\n",
    "```Python\n",
    "['h', 'e', 'l', 'l', 'o']\n",
    "```\n",
    "Hint: You can create an empty list like this:\n",
    "```Python\n",
    "my_list = []\n",
    "```"
   ]
  },
  {
   "cell_type": "code",
   "execution_count": null,
   "metadata": {},
   "outputs": [],
   "source": [
    "my_list = []\n",
    "for char in \"hello\":\n",
    "    my_list.append(char)\n",
    "print(my_list)"
   ]
  },
  {
   "cell_type": "markdown",
   "metadata": {},
   "source": [
    "### Exercise - Operators with Lists"
   ]
  },
  {
   "cell_type": "code",
   "execution_count": null,
   "metadata": {},
   "outputs": [],
   "source": [
    "counts = [2, 4, 6, 8, 10]\n",
    "repeats = counts * 2\n",
    "\n",
    "#my_solution = [4, 8, 12, 16, 20]\n",
    "#my_solution = [2, 2, 4, 4, 6, 6, 8, 8, 10, 10]\n",
    "my_solution = [2, 4, 6, 8, 10, 2, 4, 6, 8, 10]\n",
    "#my_solution = [[2, 4, 6, 8, 10],[2, 4, 6, 8, 10]]\n",
    "\n",
    "print(\"Python soln:\", repeats)\n",
    "print(\"My solution:\", my_solution)"
   ]
  },
  {
   "cell_type": "markdown",
   "metadata": {},
   "source": [
    "## Slices\n",
    "```Python\n",
    "a_slice = a_list_or_string[start_index:end_index:step_size]\n",
    "```\n",
    "Use the step size argument to create a new string that contains only every other character in the string \"In an octopus’s garden in the shade\":\n",
    "```\n",
    "I notpssgre ntesae\n",
    "```"
   ]
  },
  {
   "cell_type": "code",
   "execution_count": null,
   "metadata": {},
   "outputs": [],
   "source": [
    "beatles = \"In an octopus's garden in the shade\"\n",
    "print(beatles[::2])"
   ]
  },
  {
   "cell_type": "code",
   "execution_count": null,
   "metadata": {},
   "outputs": [],
   "source": [
    "string_for_slicing = \"Observation date: 02-Feb-2013\"\n",
    "list_for_slicing = [[\"fluorine\", \"F\"],\n",
    "                    [\"chlorine\", \"Cl\"],\n",
    "                    [\"bromine\", \"Br\"],\n",
    "                    [\"iodine\", \"I\"],\n",
    "                    [\"astatine\", \"At\"]]\n",
    "\n",
    "print(string_for_slicing[-4:])\n",
    "print(list_for_slicing[-3:])"
   ]
  },
  {
   "cell_type": "markdown",
   "metadata": {},
   "source": [
    "### Exercises - Slicing Strings\n",
    "What would be the output?"
   ]
  },
  {
   "cell_type": "code",
   "execution_count": null,
   "metadata": {},
   "outputs": [],
   "source": [
    "element = 'oxygen'\n",
    "print(element[0:3])    # oxy\n",
    "print(element[3:6])    # gen"
   ]
  },
  {
   "cell_type": "code",
   "execution_count": null,
   "metadata": {},
   "outputs": [],
   "source": [
    "print(element[:4])     # oxyg\n",
    "print(element[4:])     # en\n",
    "print(element[:])      # oxygen"
   ]
  },
  {
   "cell_type": "code",
   "execution_count": null,
   "metadata": {},
   "outputs": [],
   "source": [
    "print(element[-1])     # n\n",
    "print(element[-2])     # e\n",
    "print(element[1:-1])   # xyge"
   ]
  },
  {
   "cell_type": "code",
   "execution_count": null,
   "metadata": {},
   "outputs": [],
   "source": [
    "print(element[3:3])    # Empty string"
   ]
  },
  {
   "cell_type": "code",
   "execution_count": null,
   "metadata": {},
   "outputs": [],
   "source": []
  }
 ],
 "metadata": {
  "anaconda-cloud": {},
  "kernelspec": {
   "display_name": "Python 3",
   "language": "python",
   "name": "python3"
  },
  "language_info": {
   "codemirror_mode": {
    "name": "ipython",
    "version": 3
   },
   "file_extension": ".py",
   "mimetype": "text/x-python",
   "name": "python",
   "nbconvert_exporter": "python",
   "pygments_lexer": "ipython3",
   "version": "3.7.4"
  }
 },
 "nbformat": 4,
 "nbformat_minor": 1
}
