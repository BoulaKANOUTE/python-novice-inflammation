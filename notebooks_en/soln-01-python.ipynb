{
 "cells": [
  {
   "cell_type": "markdown",
   "metadata": {},
   "source": [
    "# Programming with Python\n",
    "## Introduction to Python\n",
    "Questions\n",
    "* What are the basics in Python?\n",
    "\n",
    "Objectives\n",
    "* Assign values to variables.\n",
    "* Use `for` loops for repeated actions\n",
    "* Trace changes to variables as the loop runs.\n",
    "* Create and index lists of simple values.\n",
    "* Change the content of lists\n",
    "* Select individual values and subsections from data."
   ]
  },
  {
   "cell_type": "markdown",
   "metadata": {
    "collapsed": true
   },
   "source": [
    "### How to Use Jupyter\n",
    "When a cell is in edit mode:\n",
    "\n",
    "  Shortcut  | Description\n",
    "----------- | -----------\n",
    "Shift+Enter | Run the cell, and go to the next\n",
    "Tab         | Indent code or auto-completion\n",
    "Esc         | Go to command mode\n",
    "\n",
    "When a cell is in command mode:\n",
    "\n",
    "  Shortcut   | Description\n",
    "------------ | -----------\n",
    "Shift+Enter  | Run the cell, and go to the next\n",
    "Double-click | Go to edit mode\n",
    "Enter        | Go to edit mode\n",
    "\n",
    "  Shortcut   | Description\n",
    "------------ | -----------\n",
    "A            | Insert a cell above\n",
    "B            | Insert a cell below\n",
    "C            | Copy the current cell\n",
    "V            | Paste the cell below\n",
    "D D          | Delete the current cell\n",
    "M            | Change to Markdown cell\n",
    "Y            | Change to Code cell\n",
    "\n",
    "To reset all cells:\n",
    "* Go to the top menu, and select Kernel -> Restart & Clear Output"
   ]
  },
  {
   "cell_type": "markdown",
   "metadata": {},
   "source": [
    "## Variables"
   ]
  },
  {
   "cell_type": "code",
   "execution_count": null,
   "metadata": {},
   "outputs": [],
   "source": [
    "3 + 5 * 4"
   ]
  },
  {
   "cell_type": "code",
   "execution_count": null,
   "metadata": {},
   "outputs": [],
   "source": [
    "weight_kg = 60"
   ]
  },
  {
   "cell_type": "markdown",
   "metadata": {},
   "source": [
    "### Types of data\n",
    "* integer numbers\n",
    "* floating point numbers, and\n",
    "* strings."
   ]
  },
  {
   "cell_type": "code",
   "execution_count": null,
   "metadata": {},
   "outputs": [],
   "source": [
    "weight_kg = 60.0"
   ]
  },
  {
   "cell_type": "code",
   "execution_count": null,
   "metadata": {},
   "outputs": [],
   "source": [
    "weight_kg_text = 'weight in kilograms:'"
   ]
  },
  {
   "cell_type": "markdown",
   "metadata": {},
   "source": [
    "### Using Variables in Python"
   ]
  },
  {
   "cell_type": "code",
   "execution_count": null,
   "metadata": {},
   "outputs": [],
   "source": [
    "print(weight_kg)"
   ]
  },
  {
   "cell_type": "code",
   "execution_count": null,
   "metadata": {},
   "outputs": [],
   "source": [
    "print(weight_kg_text, weight_kg)"
   ]
  },
  {
   "cell_type": "code",
   "execution_count": null,
   "metadata": {},
   "outputs": [],
   "source": [
    "print('weight in pounds:', 2.2 * weight_kg)"
   ]
  },
  {
   "cell_type": "code",
   "execution_count": null,
   "metadata": {},
   "outputs": [],
   "source": [
    "print(weight_kg)"
   ]
  },
  {
   "cell_type": "code",
   "execution_count": null,
   "metadata": {},
   "outputs": [],
   "source": [
    "weight_kg = 65.0\n",
    "print('weight in kilograms is now:', weight_kg)"
   ]
  },
  {
   "cell_type": "markdown",
   "metadata": {},
   "source": [
    "![Variable as a sticky note](../fig/python-sticky-note-variables-01.svg)"
   ]
  },
  {
   "cell_type": "code",
   "execution_count": null,
   "metadata": {},
   "outputs": [],
   "source": [
    "# There are 2.2 pounds per kilogram\n",
    "weight_lb = 2.2 * weight_kg\n",
    "print(weight_kg_text, weight_kg, 'and in pounds:', weight_lb)"
   ]
  },
  {
   "cell_type": "markdown",
   "metadata": {},
   "source": [
    "![Two variables](../fig/python-sticky-note-variables-02.svg)"
   ]
  },
  {
   "cell_type": "code",
   "execution_count": null,
   "metadata": {},
   "outputs": [],
   "source": [
    "weight_kg = 100.0\n",
    "print('weight in kilograms is now:', weight_kg,\n",
    "      'and weight in pounds is still:', weight_lb)"
   ]
  },
  {
   "cell_type": "markdown",
   "metadata": {},
   "source": [
    "![Independant variables](../fig/python-sticky-note-variables-03.svg)"
   ]
  },
  {
   "cell_type": "markdown",
   "metadata": {},
   "source": [
    "### Exercise\n",
    "Draw diagrams showing what variables refer to what values after each statement in the following program:"
   ]
  },
  {
   "cell_type": "code",
   "execution_count": null,
   "metadata": {},
   "outputs": [],
   "source": [
    "mass = 45.0        # mass-> 45.0, age-> undefined\n",
    "age = 12           # mass-> 45.0, age-> 12\n",
    "mass = mass * 2.0  # mass-> 90.0, age-> 12\n",
    "age = age + 20     # mass-> 90.0, age-> 32\n",
    "print(mass, age)"
   ]
  }
 ],
 "metadata": {
  "anaconda-cloud": {},
  "kernelspec": {
   "display_name": "Python 3",
   "language": "python",
   "name": "python3"
  },
  "language_info": {
   "codemirror_mode": {
    "name": "ipython",
    "version": 3
   },
   "file_extension": ".py",
   "mimetype": "text/x-python",
   "name": "python",
   "nbconvert_exporter": "python",
   "pygments_lexer": "ipython3",
   "version": "3.7.4"
  }
 },
 "nbformat": 4,
 "nbformat_minor": 1
}
