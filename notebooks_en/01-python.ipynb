{
 "cells": [
  {
   "cell_type": "markdown",
   "metadata": {},
   "source": [
    "# Programming with Python\n",
    "## Introduction to Python\n",
    "Questions\n",
    "* What are the basics in Python?\n",
    "\n",
    "Objectives\n",
    "* Assign values to variables.\n",
    "* \n",
    "* Use `for` loops for repeated actions\n",
    "* Trace changes to variables as the loop runs.\n",
    "* Create and index lists of simple values.\n",
    "* Change the content of lists\n",
    "* Select individual values and subsections from data."
   ]
  },
  {
   "cell_type": "markdown",
   "metadata": {
    "collapsed": true
   },
   "source": [
    "### How to Use Jupyter\n",
    "When a cell is in edit mode:\n",
    "\n",
    "  Shortcut  | Description\n",
    "----------- | -----------\n",
    "Shift+Enter | Run the cell, and go to the next\n",
    "Tab         | Indent code or auto-completion\n",
    "Esc         | Go to command mode\n",
    "\n",
    "When a cell is in command mode:\n",
    "\n",
    "  Shortcut   | Description\n",
    "------------ | -----------\n",
    "Shift+Enter  | Run the cell, and go to the next\n",
    "Double-click | Go to edit mode\n",
    "Enter        | Go to edit mode\n",
    "\n",
    "  Shortcut   | Description\n",
    "------------ | -----------\n",
    "A            | Insert a cell above\n",
    "B            | Insert a cell below\n",
    "C            | Copy the current cell\n",
    "V            | Paste the cell below\n",
    "D D          | Delete the current cell\n",
    "M            | Change to Markdown cell\n",
    "Y            | Change to Code cell\n",
    "\n",
    "To reset all cells:\n",
    "* Go to the top menu, and select Kernel -> Restart & Clear Output"
   ]
  },
  {
   "cell_type": "markdown",
   "metadata": {},
   "source": [
    "## Variables"
   ]
  },
  {
   "cell_type": "code",
   "execution_count": null,
   "metadata": {},
   "outputs": [],
   "source": [
    "###"
   ]
  },
  {
   "cell_type": "code",
   "execution_count": null,
   "metadata": {},
   "outputs": [],
   "source": [
    "### = ###"
   ]
  },
  {
   "cell_type": "markdown",
   "metadata": {},
   "source": [
    "### Types of data\n",
    "* integer numbers\n",
    "* floating point numbers, and\n",
    "* strings."
   ]
  },
  {
   "cell_type": "code",
   "execution_count": null,
   "metadata": {},
   "outputs": [],
   "source": [
    "weight_kg = ###"
   ]
  },
  {
   "cell_type": "code",
   "execution_count": null,
   "metadata": {},
   "outputs": [],
   "source": [
    "weight_kg_text = ###weight in kilograms:###"
   ]
  },
  {
   "cell_type": "markdown",
   "metadata": {},
   "source": [
    "### Using Variables in Python"
   ]
  },
  {
   "cell_type": "code",
   "execution_count": null,
   "metadata": {},
   "outputs": [],
   "source": [
    "###(###)"
   ]
  },
  {
   "cell_type": "code",
   "execution_count": null,
   "metadata": {},
   "outputs": [],
   "source": [
    "###(weight_kg###, ###)"
   ]
  },
  {
   "cell_type": "code",
   "execution_count": null,
   "metadata": {},
   "outputs": [],
   "source": [
    "print('weight in pounds:', ### weight_kg)"
   ]
  },
  {
   "cell_type": "code",
   "execution_count": null,
   "metadata": {},
   "outputs": [],
   "source": [
    "###(weight_kg)"
   ]
  },
  {
   "cell_type": "code",
   "execution_count": null,
   "metadata": {},
   "outputs": [],
   "source": [
    "weight_### = ###\n",
    "print('weight in kilograms is now:', weight_kg)"
   ]
  },
  {
   "cell_type": "markdown",
   "metadata": {},
   "source": [
    "![Variable as a sticky note](../fig/python-sticky-note-variables-01.svg)"
   ]
  },
  {
   "cell_type": "code",
   "execution_count": null,
   "metadata": {},
   "outputs": [],
   "source": [
    "# There are 2.2 pounds per kilogram\n",
    "### = ### weight_kg\n",
    "print(weight_kg###, weight_kg, 'and in pounds:', ###)"
   ]
  },
  {
   "cell_type": "markdown",
   "metadata": {},
   "source": [
    "![Two variables](../fig/python-sticky-note-variables-02.svg)"
   ]
  },
  {
   "cell_type": "code",
   "execution_count": null,
   "metadata": {},
   "outputs": [],
   "source": [
    "weight_kg = ###\n",
    "print('weight in kilograms is now:', weight_kg, 'and weight in pounds is still:', weight_lb)"
   ]
  },
  {
   "cell_type": "markdown",
   "metadata": {},
   "source": [
    "![Independant variables](../fig/python-sticky-note-variables-03.svg)"
   ]
  },
  {
   "cell_type": "markdown",
   "metadata": {},
   "source": [
    "### Exercise\n",
    "Draw diagrams showing what variables refer to what values after each statement in the following program:"
   ]
  },
  {
   "cell_type": "code",
   "execution_count": null,
   "metadata": {},
   "outputs": [],
   "source": [
    "mass = 47.5        # mass-> ###, age-> ###\n",
    "age = 122          # mass-> ###, age-> ###\n",
    "mass = mass * 2.0  # mass-> ###, age-> ###\n",
    "age = age - 20     # mass-> ###, age-> ###\n",
    "#print(###)"
   ]
  },
  {
   "cell_type": "markdown",
   "metadata": {},
   "source": [
    "## Repeated Actions"
   ]
  },
  {
   "cell_type": "code",
   "execution_count": null,
   "metadata": {},
   "outputs": [],
   "source": [
    "### = ###"
   ]
  },
  {
   "cell_type": "code",
   "execution_count": null,
   "metadata": {},
   "outputs": [],
   "source": [
    "print(###)\n",
    "print(###)\n",
    "print(###)\n",
    "print(###)"
   ]
  },
  {
   "cell_type": "code",
   "execution_count": null,
   "metadata": {},
   "outputs": [],
   "source": [
    "word = ###\n",
    "print(word[###])\n",
    "print(word[###])\n",
    "print(word[###])\n",
    "print(word[###])"
   ]
  },
  {
   "cell_type": "markdown",
   "metadata": {},
   "source": [
    "### Using Loops"
   ]
  },
  {
   "cell_type": "code",
   "execution_count": null,
   "metadata": {},
   "outputs": [],
   "source": [
    "word = ###\n",
    "###"
   ]
  },
  {
   "cell_type": "code",
   "execution_count": null,
   "metadata": {},
   "outputs": [],
   "source": [
    "word = ###\n",
    "for char in word:\n",
    "    print(char)"
   ]
  },
  {
   "cell_type": "markdown",
   "metadata": {},
   "source": [
    "### Loops Syntax\n",
    "```\n",
    "for variable in collection:\n",
    "    do things with variable\n",
    "```"
   ]
  },
  {
   "cell_type": "markdown",
   "metadata": {},
   "source": [
    "![What happens when accessing each letter](../fig/loops_image.png)"
   ]
  },
  {
   "cell_type": "markdown",
   "metadata": {},
   "source": [
    "### Modifying Variables in a Loop"
   ]
  },
  {
   "cell_type": "code",
   "execution_count": null,
   "metadata": {},
   "outputs": [],
   "source": [
    "###\n",
    "for vowel in 'aeiou':\n",
    "    ###\n",
    "print('There are', ###, 'vowels')"
   ]
  },
  {
   "cell_type": "code",
   "execution_count": null,
   "metadata": {},
   "outputs": [],
   "source": [
    "print(###('aeiou'))"
   ]
  },
  {
   "cell_type": "code",
   "execution_count": null,
   "metadata": {},
   "outputs": [],
   "source": [
    "letter = ###\n",
    "for letter in ###:\n",
    "    print(letter)\n",
    "print('after the loop, letter is', ###)"
   ]
  },
  {
   "cell_type": "markdown",
   "metadata": {},
   "source": [
    "### Exercise - Reverse a String\n",
    "Knowing that two strings can be concatenated using the `+` operator, write a loop that takes a string and produces a new string with the characters in reverse order, so `'Newton'` becomes `'notweN'`."
   ]
  },
  {
   "cell_type": "code",
   "execution_count": null,
   "metadata": {},
   "outputs": [],
   "source": [
    "newstring = ''\n",
    "oldstring = 'Newton'\n",
    "for char in ###:\n",
    "    newstring = ###\n",
    "print(newstring)"
   ]
  },
  {
   "cell_type": "markdown",
   "metadata": {},
   "source": [
    "### Exercise - Using `range()`\n",
    "```Python\n",
    "for i in range(3):         # 0, 1, 2\n",
    "for i in range(2, 5):      # 2, 3, 4\n",
    "for i in range(3, 10, 2):  # 3, 5, 7, 9\n",
    "```\n",
    "But how can we get 1, 2, 3?"
   ]
  },
  {
   "cell_type": "code",
   "execution_count": null,
   "metadata": {},
   "outputs": [],
   "source": [
    "for ### in ###:\n",
    "    print(i)"
   ]
  },
  {
   "cell_type": "markdown",
   "metadata": {},
   "source": [
    "## Lists in Python"
   ]
  },
  {
   "cell_type": "code",
   "execution_count": null,
   "metadata": {},
   "outputs": [],
   "source": [
    "###\n",
    "print('odds are:', odds)"
   ]
  },
  {
   "cell_type": "code",
   "execution_count": null,
   "metadata": {},
   "outputs": [],
   "source": [
    "print('first and last:', ###, ###)"
   ]
  },
  {
   "cell_type": "code",
   "execution_count": null,
   "metadata": {},
   "outputs": [],
   "source": [
    "for ###\n",
    "    print(number)"
   ]
  },
  {
   "cell_type": "markdown",
   "metadata": {},
   "source": [
    "### Mutable vs Immutable"
   ]
  },
  {
   "cell_type": "code",
   "execution_count": null,
   "metadata": {},
   "outputs": [],
   "source": [
    "names = 'Newton', 'Darwing', 'Turing' # typo in Darwin's name\n",
    "print('names is originally:', ###)\n",
    "\n",
    "names### = ### # correct the name\n",
    "print('final value of names:', names)"
   ]
  },
  {
   "cell_type": "code",
   "execution_count": null,
   "metadata": {},
   "outputs": [],
   "source": [
    "# Strings are immutable\n",
    "name = ###\n",
    "name### = ###"
   ]
  },
  {
   "cell_type": "markdown",
   "metadata": {},
   "source": [
    "### Modifying the Content of Lists"
   ]
  },
  {
   "cell_type": "code",
   "execution_count": null,
   "metadata": {},
   "outputs": [],
   "source": [
    "###\n",
    "print('odds after adding a value:', odds)"
   ]
  },
  {
   "cell_type": "code",
   "execution_count": null,
   "metadata": {},
   "outputs": [],
   "source": [
    "###\n",
    "print('odds after removing the first element:', odds)"
   ]
  },
  {
   "cell_type": "code",
   "execution_count": null,
   "metadata": {},
   "outputs": [],
   "source": [
    "odds = [1, 3, 5, 7]\n",
    "### = ###\n",
    "primes### = ###\n",
    "odds.###(###)\n",
    "\n",
    "print('primes:', primes)\n",
    "print('odds:', odds)"
   ]
  },
  {
   "cell_type": "code",
   "execution_count": null,
   "metadata": {},
   "outputs": [],
   "source": [
    "odds = [1, 3, 5, 7]\n",
    "primes = ###\n",
    "primes[0] = 2\n",
    "odds.###(###)\n",
    "\n",
    "print('primes:', primes)\n",
    "print('odds:', odds)"
   ]
  },
  {
   "cell_type": "markdown",
   "metadata": {},
   "source": [
    "### Exercise - Turn a String Into a List\n",
    "Use a for-loop to convert the string `\"hello\"` into a list of letters:\n",
    "```Python\n",
    "['h', 'e', 'l', 'l', 'o']\n",
    "```\n",
    "Hint: You can create an empty list like this:\n",
    "```Python\n",
    "my_list = []\n",
    "```"
   ]
  },
  {
   "cell_type": "code",
   "execution_count": null,
   "metadata": {},
   "outputs": [],
   "source": [
    "my_list = ###\n",
    "for ###\n",
    "    my_list###\n",
    "print(my_list)"
   ]
  },
  {
   "cell_type": "markdown",
   "metadata": {},
   "source": [
    "### Exercise - Operators with Lists"
   ]
  },
  {
   "cell_type": "code",
   "execution_count": null,
   "metadata": {},
   "outputs": [],
   "source": [
    "counts = [2, 4, 6, 8, 10]\n",
    "repeats = counts * 2\n",
    "\n",
    "#my_solution = [4, 8, 12, 16, 20]\n",
    "#my_solution = [2, 2, 4, 4, 6, 6, 8, 8, 10, 10]\n",
    "#my_solution = [2, 4, 6, 8, 10, 2, 4, 6, 8, 10]\n",
    "#my_solution = [[2, 4, 6, 8, 10],[2, 4, 6, 8, 10]]\n",
    "\n",
    "print(\"Python soln:\", repeats)\n",
    "print(\"My solution:\", my_solution)"
   ]
  },
  {
   "cell_type": "markdown",
   "metadata": {},
   "source": [
    "## Slices\n",
    "```Python\n",
    "a_slice = a_list_or_string[start_index:end_index:step_size]\n",
    "```\n",
    "Use the step size argument to create a new string that contains only every other character in the string \"In an octopus’s garden in the shade\":\n",
    "```\n",
    "I notpssgre ntesae\n",
    "```"
   ]
  },
  {
   "cell_type": "code",
   "execution_count": null,
   "metadata": {},
   "outputs": [],
   "source": [
    "beatles = \"In an octopus's garden in the shade\"\n",
    "print(beatles###)"
   ]
  },
  {
   "cell_type": "markdown",
   "metadata": {},
   "source": [
    "### Exercises - Slicing Strings and Arrays\n",
    "What would be the output?"
   ]
  },
  {
   "cell_type": "code",
   "execution_count": null,
   "metadata": {},
   "outputs": [],
   "source": [
    "element = 'oxygen'\n",
    "#print(element[0:3])    #\n",
    "#print(element[3:6])    #"
   ]
  },
  {
   "cell_type": "code",
   "execution_count": null,
   "metadata": {},
   "outputs": [],
   "source": [
    "#print(element[:4])     #\n",
    "#print(element[4:])     #\n",
    "#print(element[:])      #"
   ]
  },
  {
   "cell_type": "code",
   "execution_count": null,
   "metadata": {},
   "outputs": [],
   "source": [
    "#print(element[-1])     #\n",
    "#print(element[-2])     #\n",
    "#print(element[1:-1])   #"
   ]
  },
  {
   "cell_type": "code",
   "execution_count": null,
   "metadata": {},
   "outputs": [],
   "source": [
    "#print(element[3:3])    #"
   ]
  },
  {
   "cell_type": "code",
   "execution_count": null,
   "metadata": {},
   "outputs": [],
   "source": []
  }
 ],
 "metadata": {
  "anaconda-cloud": {},
  "kernelspec": {
   "display_name": "Python 3",
   "language": "python",
   "name": "python3"
  },
  "language_info": {
   "codemirror_mode": {
    "name": "ipython",
    "version": 3
   },
   "file_extension": ".py",
   "mimetype": "text/x-python",
   "name": "python",
   "nbconvert_exporter": "python",
   "pygments_lexer": "ipython3",
   "version": "3.6.5"
  }
 },
 "nbformat": 4,
 "nbformat_minor": 1
}
